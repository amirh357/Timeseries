{
 "cells": [
  {
   "cell_type": "markdown",
   "metadata": {},
   "source": [
    "### Packages"
   ]
  },
  {
   "cell_type": "code",
   "execution_count": 1,
   "metadata": {},
   "outputs": [],
   "source": [
    "import numpy as np\n",
    "import pandas as pd\n",
    "import scipy\n",
    "import statsmodels.api as sm\n",
    "import matplotlib.pyplot as plt\n",
    "import seaborn as sns\n",
    "import sklearn\n",
    "from statsmodels.tsa.arima_model import ARIMA\n",
    "from arch import arch_model\n",
    "import seaborn as sns\n",
    "import yfinance\n",
    "import warnings\n",
    "warnings.filterwarnings(\"ignore\")\n",
    "sns.set()"
   ]
  },
  {
   "cell_type": "markdown",
   "metadata": {},
   "source": [
    "### Loading the data"
   ]
  },
  {
   "cell_type": "code",
   "execution_count": 2,
   "metadata": {},
   "outputs": [
    {
     "name": "stdout",
     "output_type": "stream",
     "text": [
      "[*********************100%***********************]  4 of 4 completed\n"
     ]
    }
   ],
   "source": [
    "raw_data = yfinance.download (tickers = \"^GSPC ^FTSE ^N225 ^GDAXI\", start = \"1994-01-07\", end = \"2018-01-29\", \n",
    "                              interval = \"1d\", group_by = 'ticker', auto_adjust = True, treads = True)"
   ]
  },
  {
   "cell_type": "code",
   "execution_count": 3,
   "metadata": {},
   "outputs": [],
   "source": [
    "df_comp = raw_data.copy()"
   ]
  },
  {
   "cell_type": "code",
   "execution_count": 4,
   "metadata": {},
   "outputs": [],
   "source": [
    "df_comp['spx'] = df_comp['^GSPC'].Close[:]\n",
    "df_comp['dax'] = df_comp['^GDAXI'].Close[:]\n",
    "df_comp['ftse'] = df_comp['^FTSE'].Close[:]\n",
    "df_comp['nikkei'] = df_comp['^N225'].Close[:]"
   ]
  },
  {
   "cell_type": "code",
   "execution_count": 5,
   "metadata": {
    "scrolled": true
   },
   "outputs": [],
   "source": [
    "df_comp = df_comp.iloc[1:]\n",
    "del df_comp['^N225']\n",
    "del df_comp['^GSPC']\n",
    "del df_comp['^GDAXI']\n",
    "del df_comp['^FTSE']\n",
    "df_comp=df_comp.asfreq('b')\n",
    "df_comp=df_comp.fillna(method='ffill')"
   ]
  },
  {
   "cell_type": "markdown",
   "metadata": {},
   "source": [
    "### Creating Returns"
   ]
  },
  {
   "cell_type": "code",
   "execution_count": 6,
   "metadata": {},
   "outputs": [],
   "source": [
    "df_comp['ret_spx'] = df_comp.spx.pct_change(1)*100\n",
    "df_comp['ret_ftse'] = df_comp.ftse.pct_change(1)*100\n",
    "df_comp['ret_dax'] = df_comp.dax.pct_change(1)*100\n",
    "df_comp['ret_nikkei'] = df_comp.nikkei.pct_change(1)*100"
   ]
  },
  {
   "cell_type": "markdown",
   "metadata": {},
   "source": [
    "### Splitting the Data"
   ]
  },
  {
   "cell_type": "code",
   "execution_count": 7,
   "metadata": {},
   "outputs": [],
   "source": [
    "size = int(len(df_comp)*0.8)\n",
    "df, df_test = df_comp.iloc[:size], df_comp.iloc[size:]"
   ]
  },
  {
   "cell_type": "markdown",
   "metadata": {},
   "source": [
    "### Fitting a Model"
   ]
  },
  {
   "cell_type": "code",
   "execution_count": 9,
   "metadata": {},
   "outputs": [],
   "source": [
    "from pmdarima.arima import auto_arima"
   ]
  },
  {
   "cell_type": "code",
   "execution_count": 10,
   "metadata": {},
   "outputs": [],
   "source": [
    "model_auto = auto_arima(df.ret_ftse[1:])"
   ]
  },
  {
   "cell_type": "code",
   "execution_count": 11,
   "metadata": {},
   "outputs": [
    {
     "data": {
      "text/plain": [
       "ARIMA(order=(4, 0, 5), scoring_args={}, suppress_warnings=True,\n",
       "      with_intercept=False)"
      ]
     },
     "execution_count": 11,
     "metadata": {},
     "output_type": "execute_result"
    }
   ],
   "source": [
    "model_auto"
   ]
  },
  {
   "cell_type": "code",
   "execution_count": 12,
   "metadata": {},
   "outputs": [
    {
     "data": {
      "text/html": [
       "<table class=\"simpletable\">\n",
       "<caption>SARIMAX Results</caption>\n",
       "<tr>\n",
       "  <th>Dep. Variable:</th>           <td>y</td>        <th>  No. Observations:  </th>   <td>5019</td>   \n",
       "</tr>\n",
       "<tr>\n",
       "  <th>Model:</th>           <td>SARIMAX(4, 0, 5)</td> <th>  Log Likelihood     </th> <td>-7882.776</td>\n",
       "</tr>\n",
       "<tr>\n",
       "  <th>Date:</th>            <td>Thu, 04 Aug 2022</td> <th>  AIC                </th> <td>15785.552</td>\n",
       "</tr>\n",
       "<tr>\n",
       "  <th>Time:</th>                <td>09:56:31</td>     <th>  BIC                </th> <td>15850.762</td>\n",
       "</tr>\n",
       "<tr>\n",
       "  <th>Sample:</th>                  <td>0</td>        <th>  HQIC               </th> <td>15808.403</td>\n",
       "</tr>\n",
       "<tr>\n",
       "  <th></th>                      <td> - 5019</td>     <th>                     </th>     <td> </td>    \n",
       "</tr>\n",
       "<tr>\n",
       "  <th>Covariance Type:</th>        <td>opg</td>       <th>                     </th>     <td> </td>    \n",
       "</tr>\n",
       "</table>\n",
       "<table class=\"simpletable\">\n",
       "<tr>\n",
       "     <td></td>       <th>coef</th>     <th>std err</th>      <th>z</th>      <th>P>|z|</th>  <th>[0.025</th>    <th>0.975]</th>  \n",
       "</tr>\n",
       "<tr>\n",
       "  <th>ar.L1</th>  <td>    0.0121</td> <td>    0.082</td> <td>    0.148</td> <td> 0.883</td> <td>   -0.148</td> <td>    0.172</td>\n",
       "</tr>\n",
       "<tr>\n",
       "  <th>ar.L2</th>  <td>   -0.6545</td> <td>    0.077</td> <td>   -8.458</td> <td> 0.000</td> <td>   -0.806</td> <td>   -0.503</td>\n",
       "</tr>\n",
       "<tr>\n",
       "  <th>ar.L3</th>  <td>   -0.1628</td> <td>    0.071</td> <td>   -2.290</td> <td> 0.022</td> <td>   -0.302</td> <td>   -0.023</td>\n",
       "</tr>\n",
       "<tr>\n",
       "  <th>ar.L4</th>  <td>    0.2013</td> <td>    0.074</td> <td>    2.710</td> <td> 0.007</td> <td>    0.056</td> <td>    0.347</td>\n",
       "</tr>\n",
       "<tr>\n",
       "  <th>ma.L1</th>  <td>   -0.0357</td> <td>    0.081</td> <td>   -0.440</td> <td> 0.660</td> <td>   -0.195</td> <td>    0.123</td>\n",
       "</tr>\n",
       "<tr>\n",
       "  <th>ma.L2</th>  <td>    0.6069</td> <td>    0.078</td> <td>    7.771</td> <td> 0.000</td> <td>    0.454</td> <td>    0.760</td>\n",
       "</tr>\n",
       "<tr>\n",
       "  <th>ma.L3</th>  <td>    0.0621</td> <td>    0.068</td> <td>    0.908</td> <td> 0.364</td> <td>   -0.072</td> <td>    0.196</td>\n",
       "</tr>\n",
       "<tr>\n",
       "  <th>ma.L4</th>  <td>   -0.1932</td> <td>    0.073</td> <td>   -2.647</td> <td> 0.008</td> <td>   -0.336</td> <td>   -0.050</td>\n",
       "</tr>\n",
       "<tr>\n",
       "  <th>ma.L5</th>  <td>   -0.1053</td> <td>    0.010</td> <td>  -11.069</td> <td> 0.000</td> <td>   -0.124</td> <td>   -0.087</td>\n",
       "</tr>\n",
       "<tr>\n",
       "  <th>sigma2</th> <td>    1.3544</td> <td>    0.015</td> <td>   91.433</td> <td> 0.000</td> <td>    1.325</td> <td>    1.383</td>\n",
       "</tr>\n",
       "</table>\n",
       "<table class=\"simpletable\">\n",
       "<tr>\n",
       "  <th>Ljung-Box (Q):</th>          <td>66.83</td> <th>  Jarque-Bera (JB):  </th> <td>6354.54</td>\n",
       "</tr>\n",
       "<tr>\n",
       "  <th>Prob(Q):</th>                <td>0.00</td>  <th>  Prob(JB):          </th>  <td>0.00</td>  \n",
       "</tr>\n",
       "<tr>\n",
       "  <th>Heteroskedasticity (H):</th> <td>1.99</td>  <th>  Skew:              </th>  <td>-0.20</td> \n",
       "</tr>\n",
       "<tr>\n",
       "  <th>Prob(H) (two-sided):</th>    <td>0.00</td>  <th>  Kurtosis:          </th>  <td>8.50</td>  \n",
       "</tr>\n",
       "</table><br/><br/>Warnings:<br/>[1] Covariance matrix calculated using the outer product of gradients (complex-step)."
      ],
      "text/plain": [
       "<class 'statsmodels.iolib.summary.Summary'>\n",
       "\"\"\"\n",
       "                               SARIMAX Results                                \n",
       "==============================================================================\n",
       "Dep. Variable:                      y   No. Observations:                 5019\n",
       "Model:               SARIMAX(4, 0, 5)   Log Likelihood               -7882.776\n",
       "Date:                Thu, 04 Aug 2022   AIC                          15785.552\n",
       "Time:                        09:56:31   BIC                          15850.762\n",
       "Sample:                             0   HQIC                         15808.403\n",
       "                               - 5019                                         \n",
       "Covariance Type:                  opg                                         \n",
       "==============================================================================\n",
       "                 coef    std err          z      P>|z|      [0.025      0.975]\n",
       "------------------------------------------------------------------------------\n",
       "ar.L1          0.0121      0.082      0.148      0.883      -0.148       0.172\n",
       "ar.L2         -0.6545      0.077     -8.458      0.000      -0.806      -0.503\n",
       "ar.L3         -0.1628      0.071     -2.290      0.022      -0.302      -0.023\n",
       "ar.L4          0.2013      0.074      2.710      0.007       0.056       0.347\n",
       "ma.L1         -0.0357      0.081     -0.440      0.660      -0.195       0.123\n",
       "ma.L2          0.6069      0.078      7.771      0.000       0.454       0.760\n",
       "ma.L3          0.0621      0.068      0.908      0.364      -0.072       0.196\n",
       "ma.L4         -0.1932      0.073     -2.647      0.008      -0.336      -0.050\n",
       "ma.L5         -0.1053      0.010    -11.069      0.000      -0.124      -0.087\n",
       "sigma2         1.3544      0.015     91.433      0.000       1.325       1.383\n",
       "===================================================================================\n",
       "Ljung-Box (Q):                       66.83   Jarque-Bera (JB):              6354.54\n",
       "Prob(Q):                              0.00   Prob(JB):                         0.00\n",
       "Heteroskedasticity (H):               1.99   Skew:                            -0.20\n",
       "Prob(H) (two-sided):                  0.00   Kurtosis:                         8.50\n",
       "===================================================================================\n",
       "\n",
       "Warnings:\n",
       "[1] Covariance matrix calculated using the outer product of gradients (complex-step).\n",
       "\"\"\""
      ]
     },
     "execution_count": 12,
     "metadata": {},
     "output_type": "execute_result"
    }
   ],
   "source": [
    "model_auto.summary()"
   ]
  },
  {
   "cell_type": "markdown",
   "metadata": {},
   "source": [
    "### Important Arguments"
   ]
  },
  {
   "cell_type": "code",
   "execution_count": 14,
   "metadata": {
    "scrolled": true
   },
   "outputs": [],
   "source": [
    "model_auto = auto_arima(df_comp.ret_ftse[1:], exogenous = df_comp[['ret_spx', 'ret_dax', 'ret_nikkei']][1:], m = 5,\n",
    "                       max_order = None, max_p = 7, max_q = 7, max_d = 2, max_P = 4, max_Q = 4, max_D = 2,\n",
    "                       maxiter = 50, alpha = 0.05, n_jobs = -1, trend = 'ct', information_criterion = 'oob',\n",
    "                       out_of_sample = int(len(df_comp)*0.2))\n",
    "\n",
    "\n",
    "# !!! Important Note: In pdmarima v1.5.2, out_of_sample_size is replaced with out_of_sample, so make sure to use the latter!\n",
    "\n",
    "\n",
    "# exogenous -> outside factors (e.g other time series)\n",
    "# m -> seasonal cycle length\n",
    "# max_order -> maximum amount of variables to be used in the regression (p + q)\n",
    "# max_p -> maximum AR components\n",
    "# max_q -> maximum MA components\n",
    "# max_d -> maximum Integrations\n",
    "# maxiter -> maximum iterations we're giving the model to converge the coefficients (becomes harder as the order increases)\n",
    "# alpha -> level of significance, default is 5%, which we should be using most of the time\n",
    "# n_jobs -> how many models to fit at a time (-1 indicates \"as many as possible\")\n",
    "# trend -> \"ct\" usually\n",
    "# information_criterion -> 'aic', 'aicc', 'bic', 'hqic', 'oob' \n",
    "#        (Akaike Information Criterion, Corrected Akaike Information Criterion,\n",
    "#        Bayesian Information Criterion, Hannan-Quinn Information Criterion, or\n",
    "#        \"out of bag\"--for validation scoring--respectively)\n",
    "# out_of_smaple -> validates the model selection (pass the entire dataset, and set 20% to be the out_of_sample_size)"
   ]
  },
  {
   "cell_type": "code",
   "execution_count": 15,
   "metadata": {},
   "outputs": [
    {
     "data": {
      "text/html": [
       "<table class=\"simpletable\">\n",
       "<caption>Statespace Model Results</caption>\n",
       "<tr>\n",
       "  <th>Dep. Variable:</th>                 <td>y</td>               <th>  No. Observations:  </th>   <td>6276</td>   \n",
       "</tr>\n",
       "<tr>\n",
       "  <th>Model:</th>           <td>SARIMAX(2, 0, 2)x(1, 0, 1, 5)</td> <th>  Log Likelihood     </th> <td>-6340.661</td>\n",
       "</tr>\n",
       "<tr>\n",
       "  <th>Date:</th>                  <td>Fri, 03 Jan 2020</td>        <th>  AIC                </th> <td>12705.322</td>\n",
       "</tr>\n",
       "<tr>\n",
       "  <th>Time:</th>                      <td>10:34:50</td>            <th>  BIC                </th> <td>12786.256</td>\n",
       "</tr>\n",
       "<tr>\n",
       "  <th>Sample:</th>                   <td>01-10-1994</td>           <th>  HQIC               </th> <td>12733.364</td>\n",
       "</tr>\n",
       "<tr>\n",
       "  <th></th>                         <td>- 01-29-2018</td>          <th>                     </th>     <td> </td>    \n",
       "</tr>\n",
       "<tr>\n",
       "  <th>Covariance Type:</th>              <td>opg</td>              <th>                     </th>     <td> </td>    \n",
       "</tr>\n",
       "</table>\n",
       "<table class=\"simpletable\">\n",
       "<tr>\n",
       "       <td></td>         <th>coef</th>     <th>std err</th>      <th>z</th>      <th>P>|z|</th>  <th>[0.025</th>    <th>0.975]</th>  \n",
       "</tr>\n",
       "<tr>\n",
       "  <th>intercept</th>  <td>   -0.0043</td> <td>    0.009</td> <td>   -0.500</td> <td> 0.617</td> <td>   -0.021</td> <td>    0.013</td>\n",
       "</tr>\n",
       "<tr>\n",
       "  <th>drift</th>      <td> -1.45e-06</td> <td> 2.72e-06</td> <td>   -0.533</td> <td> 0.594</td> <td>-6.78e-06</td> <td> 3.88e-06</td>\n",
       "</tr>\n",
       "<tr>\n",
       "  <th>ret_spx</th>    <td>    0.0958</td> <td>    0.006</td> <td>   16.947</td> <td> 0.000</td> <td>    0.085</td> <td>    0.107</td>\n",
       "</tr>\n",
       "<tr>\n",
       "  <th>ret_dax</th>    <td>    0.5582</td> <td>    0.005</td> <td>  113.729</td> <td> 0.000</td> <td>    0.549</td> <td>    0.568</td>\n",
       "</tr>\n",
       "<tr>\n",
       "  <th>ret_nikkei</th> <td>    0.0702</td> <td>    0.004</td> <td>   16.547</td> <td> 0.000</td> <td>    0.062</td> <td>    0.079</td>\n",
       "</tr>\n",
       "<tr>\n",
       "  <th>ar.L1</th>      <td>   -0.1932</td> <td>    0.101</td> <td>   -1.918</td> <td> 0.055</td> <td>   -0.390</td> <td>    0.004</td>\n",
       "</tr>\n",
       "<tr>\n",
       "  <th>ar.L2</th>      <td>    0.5083</td> <td>    0.059</td> <td>    8.643</td> <td> 0.000</td> <td>    0.393</td> <td>    0.624</td>\n",
       "</tr>\n",
       "<tr>\n",
       "  <th>ma.L1</th>      <td>    0.0863</td> <td>    0.101</td> <td>    0.855</td> <td> 0.393</td> <td>   -0.112</td> <td>    0.284</td>\n",
       "</tr>\n",
       "<tr>\n",
       "  <th>ma.L2</th>      <td>   -0.5369</td> <td>    0.056</td> <td>   -9.535</td> <td> 0.000</td> <td>   -0.647</td> <td>   -0.427</td>\n",
       "</tr>\n",
       "<tr>\n",
       "  <th>ar.S.L5</th>    <td>    0.0705</td> <td>    0.339</td> <td>    0.208</td> <td> 0.836</td> <td>   -0.595</td> <td>    0.736</td>\n",
       "</tr>\n",
       "<tr>\n",
       "  <th>ma.S.L5</th>    <td>   -0.0987</td> <td>    0.339</td> <td>   -0.291</td> <td> 0.771</td> <td>   -0.764</td> <td>    0.567</td>\n",
       "</tr>\n",
       "<tr>\n",
       "  <th>sigma2</th>     <td>    0.4404</td> <td>    0.004</td> <td>   99.131</td> <td> 0.000</td> <td>    0.432</td> <td>    0.449</td>\n",
       "</tr>\n",
       "</table>\n",
       "<table class=\"simpletable\">\n",
       "<tr>\n",
       "  <th>Ljung-Box (Q):</th>          <td>84.27</td> <th>  Jarque-Bera (JB):  </th> <td>15325.76</td>\n",
       "</tr>\n",
       "<tr>\n",
       "  <th>Prob(Q):</th>                <td>0.00</td>  <th>  Prob(JB):          </th>   <td>0.00</td>  \n",
       "</tr>\n",
       "<tr>\n",
       "  <th>Heteroskedasticity (H):</th> <td>0.54</td>  <th>  Skew:              </th>   <td>0.25</td>  \n",
       "</tr>\n",
       "<tr>\n",
       "  <th>Prob(H) (two-sided):</th>    <td>0.00</td>  <th>  Kurtosis:          </th>   <td>10.64</td> \n",
       "</tr>\n",
       "</table><br/><br/>Warnings:<br/>[1] Covariance matrix calculated using the outer product of gradients (complex-step)."
      ],
      "text/plain": [
       "<class 'statsmodels.iolib.summary.Summary'>\n",
       "\"\"\"\n",
       "                                 Statespace Model Results                                \n",
       "=========================================================================================\n",
       "Dep. Variable:                                 y   No. Observations:                 6276\n",
       "Model:             SARIMAX(2, 0, 2)x(1, 0, 1, 5)   Log Likelihood               -6340.661\n",
       "Date:                           Fri, 03 Jan 2020   AIC                          12705.322\n",
       "Time:                                   10:34:50   BIC                          12786.256\n",
       "Sample:                               01-10-1994   HQIC                         12733.364\n",
       "                                    - 01-29-2018                                         \n",
       "Covariance Type:                             opg                                         \n",
       "==============================================================================\n",
       "                 coef    std err          z      P>|z|      [0.025      0.975]\n",
       "------------------------------------------------------------------------------\n",
       "intercept     -0.0043      0.009     -0.500      0.617      -0.021       0.013\n",
       "drift       -1.45e-06   2.72e-06     -0.533      0.594   -6.78e-06    3.88e-06\n",
       "ret_spx        0.0958      0.006     16.947      0.000       0.085       0.107\n",
       "ret_dax        0.5582      0.005    113.729      0.000       0.549       0.568\n",
       "ret_nikkei     0.0702      0.004     16.547      0.000       0.062       0.079\n",
       "ar.L1         -0.1932      0.101     -1.918      0.055      -0.390       0.004\n",
       "ar.L2          0.5083      0.059      8.643      0.000       0.393       0.624\n",
       "ma.L1          0.0863      0.101      0.855      0.393      -0.112       0.284\n",
       "ma.L2         -0.5369      0.056     -9.535      0.000      -0.647      -0.427\n",
       "ar.S.L5        0.0705      0.339      0.208      0.836      -0.595       0.736\n",
       "ma.S.L5       -0.0987      0.339     -0.291      0.771      -0.764       0.567\n",
       "sigma2         0.4404      0.004     99.131      0.000       0.432       0.449\n",
       "===================================================================================\n",
       "Ljung-Box (Q):                       84.27   Jarque-Bera (JB):             15325.76\n",
       "Prob(Q):                              0.00   Prob(JB):                         0.00\n",
       "Heteroskedasticity (H):               0.54   Skew:                             0.25\n",
       "Prob(H) (two-sided):                  0.00   Kurtosis:                        10.64\n",
       "===================================================================================\n",
       "\n",
       "Warnings:\n",
       "[1] Covariance matrix calculated using the outer product of gradients (complex-step).\n",
       "\"\"\""
      ]
     },
     "execution_count": 15,
     "metadata": {},
     "output_type": "execute_result"
    }
   ],
   "source": [
    "model_auto.summary()"
   ]
  }
 ],
 "metadata": {
  "kernelspec": {
   "display_name": "Python 3",
   "language": "python",
   "name": "python3"
  },
  "language_info": {
   "codemirror_mode": {
    "name": "ipython",
    "version": 3
   },
   "file_extension": ".py",
   "mimetype": "text/x-python",
   "name": "python",
   "nbconvert_exporter": "python",
   "pygments_lexer": "ipython3",
   "version": "3.7.11"
  },
  "varInspector": {
   "cols": {
    "lenName": 16,
    "lenType": 16,
    "lenVar": 40
   },
   "kernels_config": {
    "python": {
     "delete_cmd_postfix": "",
     "delete_cmd_prefix": "del ",
     "library": "var_list.py",
     "varRefreshCmd": "print(var_dic_list())"
    },
    "r": {
     "delete_cmd_postfix": ") ",
     "delete_cmd_prefix": "rm(",
     "library": "var_list.r",
     "varRefreshCmd": "cat(var_dic_list()) "
    }
   },
   "types_to_exclude": [
    "module",
    "function",
    "builtin_function_or_method",
    "instance",
    "_Feature"
   ],
   "window_display": false
  }
 },
 "nbformat": 4,
 "nbformat_minor": 2
}
